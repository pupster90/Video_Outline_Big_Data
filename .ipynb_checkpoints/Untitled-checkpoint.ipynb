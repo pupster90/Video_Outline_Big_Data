{
 "cells": [
  {
   "cell_type": "markdown",
   "metadata": {},
   "source": [
    "<font size=7>Big Data Outline</font>"
   ]
  },
  {
   "cell_type": "markdown",
   "metadata": {},
   "source": [
    "# Intro"
   ]
  },
  {
   "cell_type": "markdown",
   "metadata": {},
   "source": [
    "## Beginning Talk"
   ]
  },
  {
   "cell_type": "markdown",
   "metadata": {},
   "source": [
    "This is elliot the ipad pro and in this video this video I'm going to show you how professional programmers work with big data\n",
    "* `show jupyter notebook when u say \"how professional programmers\"`\n",
    "* `add red letters Big Data to screen`"
   ]
  },
  {
   "cell_type": "markdown",
   "metadata": {},
   "source": [
    "Now when u search \"Big Data\" on youtube you get video about:\n",
    "* \"How is big data changing society\"\n",
    "* or what are the moral and philosphical repercussions of big data\n",
    "* or u get like music videos\n",
    "* But nobody explains what the technology  is or how to use it\n",
    "* Which is kinda insane when you think about it\n",
    "* so in this video I am going to show how **U** can work with big data\n",
    "* annd then **U** can decide how u wan to change society"
   ]
  },
  {
   "cell_type": "markdown",
   "metadata": {},
   "source": [
    "So in this video you are actually going to get hands on experience writing you own code that works with big data\n",
    "* and if u've never programmed before that's totally ok (this is made to be a beginners tutorial)\n",
    "* There's some software called **io** which u can download on any device and then use to follow along this tutorial\n",
    "    * I actually have a tutorial on how to download that software that video `add link`\n",
    "* Also, If u want to try typing the code urself u might also want to watch my \"introduction to python\" video\n",
    "    * That'll give a better feel for the software"
   ]
  },
  {
   "cell_type": "markdown",
   "metadata": {},
   "source": [
    "## <font color=\"orange\">Drawing:</font> What is Big Data?"
   ]
  },
  {
   "cell_type": "markdown",
   "metadata": {},
   "source": [
    "So what is big data? Well I'd say that in general it's whenever u have a dataset that too big to fit on your computer's hardrive"
   ]
  },
  {
   "cell_type": "markdown",
   "metadata": {},
   "source": [
    "So for example lets say that u are a youtuber and u make a lot of videos.\n",
    "* If u've ever done this then crongratulations u work with big data\n",
    "* Now video files take up a lot of space on a computer and eventually u'll run out of space on ur computer\n",
    "* Now what most people do in this situation is they buy an external hardrive and then store all their videos there\n",
    "* At first this seems like it solves the problem, u can...\n",
    "* But every now and then u might find that u run into some tricky situations"
   ]
  },
  {
   "cell_type": "markdown",
   "metadata": {},
   "source": [
    "For example lets say it's the end of the year and u want to make a summary video about all the stuff that u've done\n",
    "* To do this u want to take a little piece of every single video that u published and put all of them into a new video\n",
    "* Now, All of a sudden this becomes super annoying and take a long time\n",
    "* because u have to literally download every single video that u created back to ur computer\n",
    "* Not only that, there's still not enough space on ur computer, so u have to remember to delete each video\n",
    "\n"
   ]
  },
  {
   "cell_type": "markdown",
   "metadata": {},
   "source": [
    "This might seem like a random example but this is actually the exact same problem the programmers ran into, and it's what got people like **Google** to start talking about big data:\n",
    "* So when I drew the video data I drew them as boxes\n",
    "* now in math u might remember that a box of data with row and columns is called a matrix\n",
    "* So up until really recently computer scientists used to actually store all of their data inside of matrices, or boxes"
   ]
  },
  {
   "cell_type": "markdown",
   "metadata": {},
   "source": [
    "For example let's say your a super succesful website like u-tube and your trying figure out how to store all of you data.\n",
    "* so whag u first try to store all of ur data using these boxes\n",
    "* u might have a box that stores all of the users profiles inside of a matrix\n",
    "* then u might have a box that store all the videos\n",
    "* thenu might have box that stores all the descriptions and info about videos\n",
    "* and there might be a boxes about each user's statistics\n",
    "* remember that youtube us *owned* by **Google** and it for reasons like that that google started making other ways to work with big data"
   ]
  },
  {
   "cell_type": "markdown",
   "metadata": {},
   "source": [
    "Now lets say that have a user who looks kinda suspicious, and u want to check out their accoutnt to see if they've been oding anythign bad\n",
    "* So what u have to do is go into every sing on of these boxes and pull out a tiny little of info about that one user\n",
    "* and u can see that this is the exact same problem that we have when we looked at the youtuber with the external hardrive!\n",
    "* remember that youtube us *owned* by **Google** and it for reasons like that that google started making other ways to work with big data\n"
   ]
  },
  {
   "cell_type": "markdown",
   "metadata": {},
   "source": [
    "# Setup Project"
   ]
  },
  {
   "cell_type": "markdown",
   "metadata": {},
   "source": [
    "So how did google solve this problem?\n",
    "* well in this video I'm going to go over two of the most exciting and useful things that google created. **DataStore and MemoryStore**\n",
    "* Now this this is also when we're going to start getting to coding it's time for you to bring out your computer"
   ]
  },
  {
   "cell_type": "markdown",
   "metadata": {},
   "source": []
  },
  {
   "cell_type": "markdown",
   "metadata": {},
   "source": [
    "* If u startgetting into this, u can also check out all of these other things google made for big data"
   ]
  },
  {
   "cell_type": "markdown",
   "metadata": {},
   "source": []
  }
 ],
 "metadata": {
  "hide_input": false,
  "kernelspec": {
   "display_name": "Python 3",
   "language": "python",
   "name": "python3"
  },
  "language_info": {
   "codemirror_mode": {
    "name": "ipython",
    "version": 3
   },
   "file_extension": ".py",
   "mimetype": "text/x-python",
   "name": "python",
   "nbconvert_exporter": "python",
   "pygments_lexer": "ipython3",
   "version": "3.6.6"
  },
  "toc": {
   "base_numbering": 1,
   "nav_menu": {},
   "number_sections": true,
   "sideBar": true,
   "skip_h1_title": false,
   "title_cell": "Table of Contents",
   "title_sidebar": "Contents",
   "toc_cell": false,
   "toc_position": {},
   "toc_section_display": true,
   "toc_window_display": false
  },
  "varInspector": {
   "cols": {
    "lenName": 16,
    "lenType": 16,
    "lenVar": 40
   },
   "kernels_config": {
    "python": {
     "delete_cmd_postfix": "",
     "delete_cmd_prefix": "del ",
     "library": "var_list.py",
     "varRefreshCmd": "print(var_dic_list())"
    },
    "r": {
     "delete_cmd_postfix": ") ",
     "delete_cmd_prefix": "rm(",
     "library": "var_list.r",
     "varRefreshCmd": "cat(var_dic_list()) "
    }
   },
   "types_to_exclude": [
    "module",
    "function",
    "builtin_function_or_method",
    "instance",
    "_Feature"
   ],
   "window_display": false
  },
  "widgets": {
   "application/vnd.jupyter.widget-state+json": {
    "state": {},
    "version_major": 2,
    "version_minor": 0
   }
  }
 },
 "nbformat": 4,
 "nbformat_minor": 2
}
